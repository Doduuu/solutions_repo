{
  "nbformat": 4,
  "nbformat_minor": 0,
  "metadata": {
    "colab": {
      "provenance": [],
      "toc_visible": true,
      "authorship_tag": "ABX9TyO5nsUy2sI3UE4MswQFLxAu",
      "include_colab_link": true
    },
    "kernelspec": {
      "name": "python3",
      "display_name": "Python 3"
    },
    "language_info": {
      "name": "python"
    }
  },
  "cells": [
    {
      "cell_type": "markdown",
      "metadata": {
        "id": "view-in-github",
        "colab_type": "text"
      },
      "source": [
        "<a href=\"https://colab.research.google.com/github/Doduuu/solutions_repo/blob/main/%C3%B6rnek2.ipynb\" target=\"_parent\"><img src=\"https://colab.research.google.com/assets/colab-badge.svg\" alt=\"Open In Colab\"/></a>"
      ]
    },
    {
      "cell_type": "markdown",
      "source": [
        "1. Veri Tipi ve Yapıları\n",
        "Veri Tipini Bulma:\n",
        "Aşağıdaki değişkenlerin veri tiplerini type() fonksiyonu ile yazdırın."
      ],
      "metadata": {
        "id": "7nmr8l6VceoL"
      }
    },
    {
      "cell_type": "code",
      "execution_count": 5,
      "metadata": {
        "id": "sxYuYZgqcTag"
      },
      "outputs": [],
      "source": [
        "a = 10\n",
        "b = 3.14\n",
        "c = \"Python\"\n",
        "d = [1, 2, 3, 4]\n",
        "e = {\"key1\": \"value1\", \"key2\": \"value2\"}\n",
        "f = (True, False)\n",
        "g = None\n"
      ]
    },
    {
      "cell_type": "code",
      "source": [
        "type(a)"
      ],
      "metadata": {
        "colab": {
          "base_uri": "https://localhost:8080/"
        },
        "id": "oSY0imXupNgO",
        "outputId": "a38ff60f-7dd4-4f10-83c1-f7847564634f"
      },
      "execution_count": 6,
      "outputs": [
        {
          "output_type": "execute_result",
          "data": {
            "text/plain": [
              "int"
            ]
          },
          "metadata": {},
          "execution_count": 6
        }
      ]
    },
    {
      "cell_type": "code",
      "source": [
        "type(b)"
      ],
      "metadata": {
        "colab": {
          "base_uri": "https://localhost:8080/"
        },
        "id": "lyDcHg5zpNij",
        "outputId": "56800d10-a03c-44fc-ea95-50b1640a873a"
      },
      "execution_count": 7,
      "outputs": [
        {
          "output_type": "execute_result",
          "data": {
            "text/plain": [
              "float"
            ]
          },
          "metadata": {},
          "execution_count": 7
        }
      ]
    },
    {
      "cell_type": "code",
      "source": [
        "type(c)"
      ],
      "metadata": {
        "colab": {
          "base_uri": "https://localhost:8080/"
        },
        "id": "I6XmhRhOpNkq",
        "outputId": "0ef156c9-11c8-456f-ea0c-10062e0507a0"
      },
      "execution_count": 8,
      "outputs": [
        {
          "output_type": "execute_result",
          "data": {
            "text/plain": [
              "str"
            ]
          },
          "metadata": {},
          "execution_count": 8
        }
      ]
    },
    {
      "cell_type": "code",
      "source": [
        "type(d)"
      ],
      "metadata": {
        "colab": {
          "base_uri": "https://localhost:8080/"
        },
        "id": "A15ssPZtpNt6",
        "outputId": "cc392812-ff66-48dd-bb44-3d76aee0c424"
      },
      "execution_count": 9,
      "outputs": [
        {
          "output_type": "execute_result",
          "data": {
            "text/plain": [
              "list"
            ]
          },
          "metadata": {},
          "execution_count": 9
        }
      ]
    },
    {
      "cell_type": "code",
      "source": [
        "type(e)"
      ],
      "metadata": {
        "colab": {
          "base_uri": "https://localhost:8080/"
        },
        "id": "5x_XRz0VpPZM",
        "outputId": "e1c8f1d4-bfef-4f23-f915-892f0f118ef0"
      },
      "execution_count": 10,
      "outputs": [
        {
          "output_type": "execute_result",
          "data": {
            "text/plain": [
              "dict"
            ]
          },
          "metadata": {},
          "execution_count": 10
        }
      ]
    },
    {
      "cell_type": "code",
      "source": [
        "type(f)"
      ],
      "metadata": {
        "colab": {
          "base_uri": "https://localhost:8080/"
        },
        "id": "dlgYOMuMpPgV",
        "outputId": "b3a725d7-ee44-486d-f7ee-bbe9d269986e"
      },
      "execution_count": 11,
      "outputs": [
        {
          "output_type": "execute_result",
          "data": {
            "text/plain": [
              "tuple"
            ]
          },
          "metadata": {},
          "execution_count": 11
        }
      ]
    },
    {
      "cell_type": "code",
      "source": [
        "type(g)"
      ],
      "metadata": {
        "colab": {
          "base_uri": "https://localhost:8080/"
        },
        "id": "WGXG2CQEpPl8",
        "outputId": "e84ed137-66dc-4668-9b2d-0e6408e60e67"
      },
      "execution_count": 12,
      "outputs": [
        {
          "output_type": "execute_result",
          "data": {
            "text/plain": [
              "NoneType"
            ]
          },
          "metadata": {},
          "execution_count": 12
        }
      ]
    },
    {
      "cell_type": "markdown",
      "source": [
        "2. Liste Alıştırmaları\n",
        "Liste Elemanları\n",
        "my_list = [1, 2, 3, 4, 5]\n",
        "\n",
        "Listenin ilk elemanını yazdırın.\n",
        "\n",
        "Listenin son elemanını yazdırın.\n",
        "\n",
        "Listenin ortadaki elemanını yazdırın.\n",
        "\n",
        "Listeye 10 ekleyin.\n",
        "\n",
        "Listeden 3 değerini çıkarın.\n",
        "\n",
        "Tüm listeyi tersten yazdırın."
      ],
      "metadata": {
        "id": "EIg00JPcceH7"
      }
    },
    {
      "cell_type": "code",
      "source": [
        "my_list = [1, 2, 3, 4, 5]"
      ],
      "metadata": {
        "id": "jj4MxzoCcnNA"
      },
      "execution_count": 13,
      "outputs": []
    },
    {
      "cell_type": "code",
      "source": [
        "my_list[0]"
      ],
      "metadata": {
        "colab": {
          "base_uri": "https://localhost:8080/"
        },
        "id": "Y-DFc23qpnVk",
        "outputId": "1c432cae-b27f-4b65-ea6d-dc399c5a35fe"
      },
      "execution_count": 14,
      "outputs": [
        {
          "output_type": "execute_result",
          "data": {
            "text/plain": [
              "1"
            ]
          },
          "metadata": {},
          "execution_count": 14
        }
      ]
    },
    {
      "cell_type": "code",
      "source": [
        "my_list[-1]"
      ],
      "metadata": {
        "colab": {
          "base_uri": "https://localhost:8080/"
        },
        "id": "vyShMpcepne2",
        "outputId": "be0c0cf6-54ca-4eda-8fe0-89ea586726d2"
      },
      "execution_count": 15,
      "outputs": [
        {
          "output_type": "execute_result",
          "data": {
            "text/plain": [
              "5"
            ]
          },
          "metadata": {},
          "execution_count": 15
        }
      ]
    },
    {
      "cell_type": "code",
      "source": [
        "my_list[2]"
      ],
      "metadata": {
        "colab": {
          "base_uri": "https://localhost:8080/"
        },
        "id": "VGqd_f6xpoyG",
        "outputId": "76a97b8c-e038-4af1-bd9f-561aafed2a0b"
      },
      "execution_count": 16,
      "outputs": [
        {
          "output_type": "execute_result",
          "data": {
            "text/plain": [
              "3"
            ]
          },
          "metadata": {},
          "execution_count": 16
        }
      ]
    },
    {
      "cell_type": "code",
      "source": [
        "my_list.append(10)"
      ],
      "metadata": {
        "id": "zVpZ2_zkppAG"
      },
      "execution_count": 17,
      "outputs": []
    },
    {
      "cell_type": "code",
      "source": [
        "my_list.remove(3)"
      ],
      "metadata": {
        "id": "2KOnmr8cppsF"
      },
      "execution_count": 20,
      "outputs": []
    },
    {
      "cell_type": "code",
      "source": [
        "my_list.reverse()"
      ],
      "metadata": {
        "id": "rp0jQ_ROrBic"
      },
      "execution_count": 22,
      "outputs": []
    },
    {
      "cell_type": "markdown",
      "source": [
        "3. Sözlük (Dictionary) Alıştırmaları\n",
        "Sözlük Üzerinde İşlemler\n",
        "person = {\"name\": \"Ali\", \"age\": 30, \"skills\": [\"Java\", \"Python\", \"SQL\"]}\n",
        "\n",
        "Adı yazdırın.\n",
        "\n",
        "Yaşı 1 arttırın.\n",
        "\n",
        "\"Java\" becerisini silin.\n",
        "\n",
        "\"C++\" becerisini ekleyin.\n",
        "\n",
        "\"name\" anahtarının değerini değiştirmeyin, sadece age değerine 1 ekleyin."
      ],
      "metadata": {
        "id": "lZVME8rPcrYs"
      }
    },
    {
      "cell_type": "code",
      "source": [
        "person = {\"name\": \"Ali\", \"age\": 30, \"skills\": [\"Java\", \"Python\", \"SQL\"]}"
      ],
      "metadata": {
        "id": "XC0lnhTKct7l"
      },
      "execution_count": 31,
      "outputs": []
    },
    {
      "cell_type": "code",
      "source": [
        "person[\"name\"]"
      ],
      "metadata": {
        "colab": {
          "base_uri": "https://localhost:8080/",
          "height": 35
        },
        "id": "bNM2aNZJrPkE",
        "outputId": "b9a99731-4c0f-43e1-a435-31cb7f39a4b2"
      },
      "execution_count": 27,
      "outputs": [
        {
          "output_type": "execute_result",
          "data": {
            "text/plain": [
              "'Ali'"
            ],
            "application/vnd.google.colaboratory.intrinsic+json": {
              "type": "string"
            }
          },
          "metadata": {},
          "execution_count": 27
        }
      ]
    },
    {
      "cell_type": "code",
      "source": [
        "person[\"age\"] +1"
      ],
      "metadata": {
        "colab": {
          "base_uri": "https://localhost:8080/"
        },
        "id": "dKAQMz-arPtU",
        "outputId": "8f336bac-418a-455d-fd56-4bbf80f75c4d"
      },
      "execution_count": 29,
      "outputs": [
        {
          "output_type": "execute_result",
          "data": {
            "text/plain": [
              "31"
            ]
          },
          "metadata": {},
          "execution_count": 29
        }
      ]
    },
    {
      "cell_type": "code",
      "source": [
        "person[\"skills\"].remove(\"Java\")"
      ],
      "metadata": {
        "id": "oMTIzKzXrQeu"
      },
      "execution_count": 33,
      "outputs": []
    },
    {
      "cell_type": "code",
      "source": [
        "person[\"skills\"].append(\"C++\")"
      ],
      "metadata": {
        "id": "3rSMMo1DrSM8"
      },
      "execution_count": 34,
      "outputs": []
    },
    {
      "cell_type": "code",
      "source": [
        "person[\"age\"] +1"
      ],
      "metadata": {
        "colab": {
          "base_uri": "https://localhost:8080/"
        },
        "id": "av7KVbY-rTGs",
        "outputId": "39dd270a-a785-42d4-990b-08c80b39edd3"
      },
      "execution_count": 35,
      "outputs": [
        {
          "output_type": "execute_result",
          "data": {
            "text/plain": [
              "31"
            ]
          },
          "metadata": {},
          "execution_count": 35
        }
      ]
    },
    {
      "cell_type": "markdown",
      "source": [
        ". Nested List (İç İçe Liste)\n",
        "İç İçe Listeyi Erişme\n",
        "nested = [5, [10, [15, \"apple\"]]]]\n",
        "\n",
        "\"apple\" değerine ulaşın.\n",
        "\n",
        "iç listeyi yazdırın.\n",
        "\n",
        "İlk iç listeyi yazdırın.\n",
        "\n"
      ],
      "metadata": {
        "id": "CWbYqPXKcxDv"
      }
    },
    {
      "cell_type": "code",
      "source": [
        " nested = [5, [10, [15, \"apple\"]]]"
      ],
      "metadata": {
        "id": "QmJt7vDVcwNS"
      },
      "execution_count": 37,
      "outputs": []
    },
    {
      "cell_type": "code",
      "source": [
        "nested[1][1][1]"
      ],
      "metadata": {
        "colab": {
          "base_uri": "https://localhost:8080/",
          "height": 35
        },
        "id": "QZgizCWBrU-9",
        "outputId": "11f7b0b0-907f-43eb-bc76-94a97fdad2cb"
      },
      "execution_count": 38,
      "outputs": [
        {
          "output_type": "execute_result",
          "data": {
            "text/plain": [
              "'apple'"
            ],
            "application/vnd.google.colaboratory.intrinsic+json": {
              "type": "string"
            }
          },
          "metadata": {},
          "execution_count": 38
        }
      ]
    },
    {
      "cell_type": "code",
      "source": [
        "nested[1]"
      ],
      "metadata": {
        "colab": {
          "base_uri": "https://localhost:8080/"
        },
        "id": "sD1cHiojrVHO",
        "outputId": "794e503b-ecd2-464b-8e76-233d804e5dcc"
      },
      "execution_count": 40,
      "outputs": [
        {
          "output_type": "execute_result",
          "data": {
            "text/plain": [
              "[15, 'apple']"
            ]
          },
          "metadata": {},
          "execution_count": 40
        }
      ]
    },
    {
      "cell_type": "code",
      "source": [
        "nested[0]"
      ],
      "metadata": {
        "colab": {
          "base_uri": "https://localhost:8080/"
        },
        "id": "X24q16H3rVOI",
        "outputId": "05562b0e-fe05-4383-ae73-ace1bddacae8"
      },
      "execution_count": 41,
      "outputs": [
        {
          "output_type": "execute_result",
          "data": {
            "text/plain": [
              "5"
            ]
          },
          "metadata": {},
          "execution_count": 41
        }
      ]
    },
    {
      "cell_type": "markdown",
      "source": [
        ". Ekstra: Mini Proje – Alışveriş Sepeti\n",
        "Alışveriş Sepeti Projesi\n",
        "\n",
        "sepet = {\"elma\": 2, \"muz\": 3, \"portakal\": 5}\n",
        "\n",
        "Sepete yeni bir ürün ekleyin.\n",
        "\n",
        "Sepetten bir ürün silin.\n",
        "\n",
        "Sepetteki toplam ürün sayısını hesaplayın (adet toplamı).\n",
        "\n",
        "Tüm ürünleri yazdırın."
      ],
      "metadata": {
        "id": "yMG8M__kc6VR"
      }
    },
    {
      "cell_type": "code",
      "source": [
        "sepet = {\"elma\": 2, \"muz\": 3, \"portakal\": 5}"
      ],
      "metadata": {
        "id": "__QqpAw0dApm"
      },
      "execution_count": 42,
      "outputs": []
    },
    {
      "cell_type": "code",
      "source": [
        "sepet[\"armut\"] = 1"
      ],
      "metadata": {
        "id": "EpB9sZz9rYFA"
      },
      "execution_count": 50,
      "outputs": []
    },
    {
      "cell_type": "code",
      "source": [
        "sepet.pop(\"armut\")"
      ],
      "metadata": {
        "colab": {
          "base_uri": "https://localhost:8080/"
        },
        "id": "38QNxUfTrYNM",
        "outputId": "7170d5a2-57c1-438a-8a0c-28463fcf54a0"
      },
      "execution_count": 52,
      "outputs": [
        {
          "output_type": "execute_result",
          "data": {
            "text/plain": [
              "1"
            ]
          },
          "metadata": {},
          "execution_count": 52
        }
      ]
    },
    {
      "cell_type": "code",
      "source": [
        "2+3+5"
      ],
      "metadata": {
        "colab": {
          "base_uri": "https://localhost:8080/"
        },
        "id": "xBypKCAVrYUM",
        "outputId": "094b19ef-c424-4ac7-ec46-1c10024a4a95"
      },
      "execution_count": 59,
      "outputs": [
        {
          "output_type": "execute_result",
          "data": {
            "text/plain": [
              "10"
            ]
          },
          "metadata": {},
          "execution_count": 59
        }
      ]
    },
    {
      "cell_type": "code",
      "source": [
        "sepet"
      ],
      "metadata": {
        "colab": {
          "base_uri": "https://localhost:8080/"
        },
        "id": "90KH3DtNrYbX",
        "outputId": "79b5864f-706a-41d3-888b-f85c038a92f9"
      },
      "execution_count": 60,
      "outputs": [
        {
          "output_type": "execute_result",
          "data": {
            "text/plain": [
              "{'elma': 2, 'muz': 3, 'portakal': 5}"
            ]
          },
          "metadata": {},
          "execution_count": 60
        }
      ]
    },
    {
      "cell_type": "markdown",
      "source": [
        ". Veri Tipi ve Yapısı Soru\n",
        "Aşağıdaki değişkenlerin veri tiplerini type() fonksiyonu ile kontrol edin:\n"
      ],
      "metadata": {
        "id": "xA370y9Ndjkd"
      }
    },
    {
      "cell_type": "code",
      "source": [
        "a = 42\n",
        "b = 7.9\n",
        "c = \"Merhaba\"\n",
        "d = [5, 10, 15]\n",
        "e = {\"name\": \"Ahmet\", \"age\": 25}\n",
        "f = (True, False)\n",
        "g = None\n"
      ],
      "metadata": {
        "id": "V6aM5rv1doKa"
      },
      "execution_count": 68,
      "outputs": []
    },
    {
      "cell_type": "code",
      "source": [
        "type(a)"
      ],
      "metadata": {
        "colab": {
          "base_uri": "https://localhost:8080/"
        },
        "id": "rUc7XW6Trbhh",
        "outputId": "7c1af30a-bc25-4bea-954a-6aad6745246e"
      },
      "execution_count": 69,
      "outputs": [
        {
          "output_type": "execute_result",
          "data": {
            "text/plain": [
              "int"
            ]
          },
          "metadata": {},
          "execution_count": 69
        }
      ]
    },
    {
      "cell_type": "code",
      "source": [
        "type(b)"
      ],
      "metadata": {
        "colab": {
          "base_uri": "https://localhost:8080/"
        },
        "id": "EzCcSof-rboH",
        "outputId": "99b5f528-f638-40ae-948e-091702c74248"
      },
      "execution_count": 70,
      "outputs": [
        {
          "output_type": "execute_result",
          "data": {
            "text/plain": [
              "float"
            ]
          },
          "metadata": {},
          "execution_count": 70
        }
      ]
    },
    {
      "cell_type": "code",
      "source": [
        "type(c)"
      ],
      "metadata": {
        "colab": {
          "base_uri": "https://localhost:8080/"
        },
        "id": "F8QpFYM8rbum",
        "outputId": "b849a897-612d-48a4-ca50-49017d7b57e7"
      },
      "execution_count": 71,
      "outputs": [
        {
          "output_type": "execute_result",
          "data": {
            "text/plain": [
              "str"
            ]
          },
          "metadata": {},
          "execution_count": 71
        }
      ]
    },
    {
      "cell_type": "code",
      "source": [
        "type(d)"
      ],
      "metadata": {
        "colab": {
          "base_uri": "https://localhost:8080/"
        },
        "id": "UFjjbe7_rb07",
        "outputId": "55041200-b539-4dc9-fb7e-57992c5a7adf"
      },
      "execution_count": 72,
      "outputs": [
        {
          "output_type": "execute_result",
          "data": {
            "text/plain": [
              "list"
            ]
          },
          "metadata": {},
          "execution_count": 72
        }
      ]
    },
    {
      "cell_type": "code",
      "source": [
        "type(e)"
      ],
      "metadata": {
        "colab": {
          "base_uri": "https://localhost:8080/"
        },
        "id": "vGnnAAr6rb8W",
        "outputId": "5ed62e04-c9d6-4d1d-a052-94f04b56e566"
      },
      "execution_count": 73,
      "outputs": [
        {
          "output_type": "execute_result",
          "data": {
            "text/plain": [
              "dict"
            ]
          },
          "metadata": {},
          "execution_count": 73
        }
      ]
    },
    {
      "cell_type": "code",
      "source": [
        "type(f)"
      ],
      "metadata": {
        "colab": {
          "base_uri": "https://localhost:8080/"
        },
        "id": "bWflIW9nrcDV",
        "outputId": "57751595-5bdb-4023-c116-264a46da374f"
      },
      "execution_count": 74,
      "outputs": [
        {
          "output_type": "execute_result",
          "data": {
            "text/plain": [
              "tuple"
            ]
          },
          "metadata": {},
          "execution_count": 74
        }
      ]
    },
    {
      "cell_type": "code",
      "source": [
        "type(g)"
      ],
      "metadata": {
        "colab": {
          "base_uri": "https://localhost:8080/"
        },
        "id": "PBJARoiVrcKz",
        "outputId": "471e25b8-2253-40e1-a478-82f21b927f7b"
      },
      "execution_count": 75,
      "outputs": [
        {
          "output_type": "execute_result",
          "data": {
            "text/plain": [
              "NoneType"
            ]
          },
          "metadata": {},
          "execution_count": 75
        }
      ]
    },
    {
      "cell_type": "markdown",
      "source": [
        " Liste Alıştırmaları\n",
        "Liste Elemanlarına Erişim:\n",
        "\n",
        "my_list = [10, 20, 30, 40, 50]\n",
        "\n",
        "İlk elemanı yazdırın.\n",
        "\n",
        "Son elemanı yazdırın.\n",
        "\n",
        "Ortadaki elemanı yazdırın.\n",
        "\n",
        "Listenin sonuna 60 ekleyin.\n",
        "\n",
        "30 sayısını listeden çıkarın.\n",
        "\n",
        "Tüm listeyi tersten yazdırın.\n",
        "\n",
        "#Listeyi Modifiye Etme:\n",
        "\n",
        "numbers = [1, 2, 3, 4, 5]\n",
        "\n",
        "Listenin başına 0 sayısını ekleyin.\n",
        "\n",
        "Listenin sonuna 6 sayısını ekleyin.\n",
        "\n",
        "Listenin ikinci elemanını değiştirilip 20 yapın."
      ],
      "metadata": {
        "id": "owKVzPXtdqR8"
      }
    },
    {
      "cell_type": "code",
      "source": [
        "my_list = [10, 20, 30, 40, 50]"
      ],
      "metadata": {
        "id": "p1IJFEWKd0bR"
      },
      "execution_count": 76,
      "outputs": []
    },
    {
      "cell_type": "code",
      "source": [
        "my_list[0]"
      ],
      "metadata": {
        "colab": {
          "base_uri": "https://localhost:8080/"
        },
        "id": "YC7mBduurgJr",
        "outputId": "96da3aa1-3ae8-4f8f-958e-ca4f2e48a0c0"
      },
      "execution_count": 77,
      "outputs": [
        {
          "output_type": "execute_result",
          "data": {
            "text/plain": [
              "10"
            ]
          },
          "metadata": {},
          "execution_count": 77
        }
      ]
    },
    {
      "cell_type": "code",
      "source": [
        "my_list[-1]"
      ],
      "metadata": {
        "colab": {
          "base_uri": "https://localhost:8080/"
        },
        "id": "gdHOXbkvrgSF",
        "outputId": "48f42a6f-3952-4e49-9780-afc210b4dd5c"
      },
      "execution_count": 79,
      "outputs": [
        {
          "output_type": "execute_result",
          "data": {
            "text/plain": [
              "50"
            ]
          },
          "metadata": {},
          "execution_count": 79
        }
      ]
    },
    {
      "cell_type": "code",
      "source": [
        "my_list[2]"
      ],
      "metadata": {
        "colab": {
          "base_uri": "https://localhost:8080/"
        },
        "id": "oDbTrvbmrgc8",
        "outputId": "83100117-4d68-4d4f-b6ff-fc28e416f1b9"
      },
      "execution_count": 80,
      "outputs": [
        {
          "output_type": "execute_result",
          "data": {
            "text/plain": [
              "30"
            ]
          },
          "metadata": {},
          "execution_count": 80
        }
      ]
    },
    {
      "cell_type": "code",
      "source": [
        "my_list.append(60)"
      ],
      "metadata": {
        "id": "ZTXbz_0Prgng"
      },
      "execution_count": 81,
      "outputs": []
    },
    {
      "cell_type": "code",
      "source": [
        "my_list.remove(30)"
      ],
      "metadata": {
        "id": "tiQ9H_1Grgxz"
      },
      "execution_count": 82,
      "outputs": []
    },
    {
      "cell_type": "code",
      "source": [
        "my_list.reverse()"
      ],
      "metadata": {
        "id": "n0BxioMyrg6C"
      },
      "execution_count": 83,
      "outputs": []
    },
    {
      "cell_type": "code",
      "source": [
        "numbers = [1, 2, 3, 4, 5]"
      ],
      "metadata": {
        "id": "uh_1hv_Ad2Qp"
      },
      "execution_count": 105,
      "outputs": []
    },
    {
      "cell_type": "code",
      "source": [
        "numbers.insert(0,0)"
      ],
      "metadata": {
        "id": "eRUqwUOlrhv6"
      },
      "execution_count": 106,
      "outputs": []
    },
    {
      "cell_type": "code",
      "source": [
        "numbers.insert(6,6)"
      ],
      "metadata": {
        "id": "EGP4weaQxYzV"
      },
      "execution_count": 107,
      "outputs": []
    },
    {
      "cell_type": "markdown",
      "source": [
        " Sözlük (Dictionary) Alıştırmaları\n",
        "Sözlük Üzerinde İşlemler:\n",
        "\n",
        "person = {\"name\": \"Ali\", \"age\": 30, \"skills\": [\"Java\", \"Python\", \"SQL\"]}\n",
        "\n",
        "Sözlük içindeki name anahtarının değerini yazdırın.\n",
        "\n",
        "age değerini 1 artırın.\n",
        "\n",
        "skills listesinde \"Java\" becerisini silin.\n",
        "\n",
        "skills listesine \"C++\" becerisini ekleyin.\n",
        "\n",
        "age anahtarının değerini değiştirmeyin, sadece 1 ekleyin.\n",
        "\n",
        "#Sözlük Üzerinde Yeni Eleman Ekleme:\n",
        "\n",
        "person = {\"name\": \"Ahmet\", \"age\": 25, \"skills\": [\"Python\", \"Excel\", \"SQL\"]}\n",
        "\n",
        "\"Power BI\" becerisini skills listesine ekleyin.\n",
        "\n",
        "\"name\" anahtarındaki değeri değiştirmeyin, sadece yeni bir anahtar olan \"city\" ekleyin ve değeri olarak \"Istanbul\" atayın.\n",
        "\n"
      ],
      "metadata": {
        "id": "8eFDdC6ed5l5"
      }
    },
    {
      "cell_type": "code",
      "source": [
        "person = {\"name\": \"Ali\", \"age\": 30, \"skills\": [\"Java\", \"Python\", \"SQL\"]}"
      ],
      "metadata": {
        "id": "RBFZC9Fld4Ut"
      },
      "execution_count": 118,
      "outputs": []
    },
    {
      "cell_type": "code",
      "source": [
        "person[\"name\"]"
      ],
      "metadata": {
        "colab": {
          "base_uri": "https://localhost:8080/",
          "height": 35
        },
        "id": "GztiuSCtrker",
        "outputId": "b8c4de01-2d21-4353-f1f6-268299f38faf"
      },
      "execution_count": 119,
      "outputs": [
        {
          "output_type": "execute_result",
          "data": {
            "text/plain": [
              "'Ali'"
            ],
            "application/vnd.google.colaboratory.intrinsic+json": {
              "type": "string"
            }
          },
          "metadata": {},
          "execution_count": 119
        }
      ]
    },
    {
      "cell_type": "code",
      "source": [
        "person[\"age\"] +1"
      ],
      "metadata": {
        "colab": {
          "base_uri": "https://localhost:8080/"
        },
        "id": "mkLnOlX1rkv-",
        "outputId": "e697517d-0fd6-4358-ede7-e04c13b28842"
      },
      "execution_count": 120,
      "outputs": [
        {
          "output_type": "execute_result",
          "data": {
            "text/plain": [
              "31"
            ]
          },
          "metadata": {},
          "execution_count": 120
        }
      ]
    },
    {
      "cell_type": "code",
      "source": [
        "person[\"skills\"].remove(\"Java\")"
      ],
      "metadata": {
        "id": "7hv8TYyVrk-t"
      },
      "execution_count": 121,
      "outputs": []
    },
    {
      "cell_type": "code",
      "source": [
        "person[\"skills\"].append(\"C++\")"
      ],
      "metadata": {
        "id": "uiG7h_9SrlI0"
      },
      "execution_count": 122,
      "outputs": []
    },
    {
      "cell_type": "code",
      "source": [
        "person[\"age\"]+1"
      ],
      "metadata": {
        "colab": {
          "base_uri": "https://localhost:8080/"
        },
        "id": "wBXUn9_brlSf",
        "outputId": "f81974fc-9d55-4454-8d51-5b9cd1fe4c49"
      },
      "execution_count": 123,
      "outputs": [
        {
          "output_type": "execute_result",
          "data": {
            "text/plain": [
              "31"
            ]
          },
          "metadata": {},
          "execution_count": 123
        }
      ]
    },
    {
      "cell_type": "code",
      "source": [
        "person = {\"name\": \"Ahmet\", \"age\": 25, \"skills\": [\"Python\", \"Excel\", \"SQL\"]}"
      ],
      "metadata": {
        "id": "A-mJcH3Xd_Bh"
      },
      "execution_count": 129,
      "outputs": []
    },
    {
      "cell_type": "code",
      "source": [
        "person[\"skills\"].append(\"Power BI\")"
      ],
      "metadata": {
        "id": "_irVN1GormdD"
      },
      "execution_count": 130,
      "outputs": []
    },
    {
      "cell_type": "code",
      "source": [
        "person[\"City\"] = \"İstanbul\""
      ],
      "metadata": {
        "id": "aFqPQKTTrmkx"
      },
      "execution_count": 133,
      "outputs": []
    },
    {
      "cell_type": "markdown",
      "source": [
        " Nested List (İç İçe Liste) Alıştırmaları\n",
        "İç İçe Listeye Erişim:\n",
        "\n",
        "nested = [1, [2, [3, \"c\"]]]\n",
        "\n",
        "\"c\" değerine nasıl ulaşılır?\n",
        "\n",
        "İçteki ikinci listeyi nasıl yazdırırsınız?\n",
        "\n",
        "Dıştaki listeyi yazdırın.\n",
        "\n"
      ],
      "metadata": {
        "id": "3Db-scJpeJ6Y"
      }
    },
    {
      "cell_type": "code",
      "source": [
        "nested = [1, [2, [3, \"c\"]]]"
      ],
      "metadata": {
        "id": "QCmTlNxWeHpg"
      },
      "execution_count": 134,
      "outputs": []
    },
    {
      "cell_type": "code",
      "source": [
        "nested[1][1][1]"
      ],
      "metadata": {
        "colab": {
          "base_uri": "https://localhost:8080/",
          "height": 35
        },
        "id": "1BKzB0RoroA0",
        "outputId": "432f946c-ac7e-4af3-bd86-23d9f015cd7a"
      },
      "execution_count": 136,
      "outputs": [
        {
          "output_type": "execute_result",
          "data": {
            "text/plain": [
              "'c'"
            ],
            "application/vnd.google.colaboratory.intrinsic+json": {
              "type": "string"
            }
          },
          "metadata": {},
          "execution_count": 136
        }
      ]
    },
    {
      "cell_type": "code",
      "source": [
        "nested[1]"
      ],
      "metadata": {
        "colab": {
          "base_uri": "https://localhost:8080/"
        },
        "id": "w0Y2G1QXroMn",
        "outputId": "4da0fa0b-0bc0-4d57-88b1-8ffaded6abd4"
      },
      "execution_count": 137,
      "outputs": [
        {
          "output_type": "execute_result",
          "data": {
            "text/plain": [
              "[2, [3, 'c']]"
            ]
          },
          "metadata": {},
          "execution_count": 137
        }
      ]
    },
    {
      "cell_type": "code",
      "source": [
        "nested[1][1]"
      ],
      "metadata": {
        "colab": {
          "base_uri": "https://localhost:8080/"
        },
        "id": "LqTfXS0nroV4",
        "outputId": "3ebc4180-d434-43c0-a95e-0c91f8c541ae"
      },
      "execution_count": 138,
      "outputs": [
        {
          "output_type": "execute_result",
          "data": {
            "text/plain": [
              "[3, 'c']"
            ]
          },
          "metadata": {},
          "execution_count": 138
        }
      ]
    },
    {
      "cell_type": "markdown",
      "source": [
        "5. Nested Dictionary (İç İçe Sözlük) Alıştırmaları\n",
        "İç İçe Sözlüğe Erişim:\n",
        "\n",
        "nested_dict = {\"person\": {\"name\": \"Ali\", \"age\": 30}, \"address\": {\"city\": \"Istanbul\", \"zip\": \"34100\"}}\n",
        "\n",
        "name değerine ulaşın.\n",
        "\n",
        "zip değerine ulaşın.\n",
        "\n",
        "address anahtarının tüm içeriğini yazdırın.\n",
        "\n"
      ],
      "metadata": {
        "id": "Vea5bBdNeRZk"
      }
    },
    {
      "cell_type": "code",
      "source": [
        "nested_dict = {\"person\": {\"name\": \"Ali\", \"age\": 30}, \"address\": {\"city\": \"Istanbul\", \"zip\": \"34100\"}}"
      ],
      "metadata": {
        "id": "eJswpvYSeOQo"
      },
      "execution_count": 143,
      "outputs": []
    },
    {
      "cell_type": "code",
      "source": [
        "nested_dict[\"person\"][\"name\"]"
      ],
      "metadata": {
        "colab": {
          "base_uri": "https://localhost:8080/",
          "height": 35
        },
        "id": "VKQksdQUrqa5",
        "outputId": "93cbc721-92b1-4fc5-a5a8-dfb2d00bdeb0"
      },
      "execution_count": 148,
      "outputs": [
        {
          "output_type": "execute_result",
          "data": {
            "text/plain": [
              "'Ali'"
            ],
            "application/vnd.google.colaboratory.intrinsic+json": {
              "type": "string"
            }
          },
          "metadata": {},
          "execution_count": 148
        }
      ]
    },
    {
      "cell_type": "code",
      "source": [
        "nested_dict[\"address\"][\"zip\"]"
      ],
      "metadata": {
        "colab": {
          "base_uri": "https://localhost:8080/",
          "height": 35
        },
        "id": "1nlRCL8irqh8",
        "outputId": "7f3d7868-d298-47bd-901a-5cea6af27b87"
      },
      "execution_count": 151,
      "outputs": [
        {
          "output_type": "execute_result",
          "data": {
            "text/plain": [
              "'34100'"
            ],
            "application/vnd.google.colaboratory.intrinsic+json": {
              "type": "string"
            }
          },
          "metadata": {},
          "execution_count": 151
        }
      ]
    },
    {
      "cell_type": "code",
      "source": [
        "nested_dict[\"address\"]"
      ],
      "metadata": {
        "colab": {
          "base_uri": "https://localhost:8080/"
        },
        "id": "AKfG_nEWrqnz",
        "outputId": "26c57531-a2c1-42af-ff56-490757f2d0c5"
      },
      "execution_count": 152,
      "outputs": [
        {
          "output_type": "execute_result",
          "data": {
            "text/plain": [
              "{'city': 'Istanbul', 'zip': '34100'}"
            ]
          },
          "metadata": {},
          "execution_count": 152
        }
      ]
    },
    {
      "cell_type": "markdown",
      "source": [
        "Kombinasyon ve Değişken Manipülasyonu\n",
        "Veri Tipleri Kombinasyonu:\n",
        "\n",
        "data = [1, 2, \"Hello\", {\"key\": \"value\"}]\n",
        "\n",
        "Listenin içindeki sözlüğe nasıl ulaşılır?\n",
        "\n",
        "Listeden \"Hello\" kelimesini çıkarın.\n",
        "\n",
        "Listede data'yı kullanarak sözlük ve sayıları nasıl değiştirirsiniz?"
      ],
      "metadata": {
        "id": "WxCXg-28eVXG"
      }
    },
    {
      "cell_type": "code",
      "source": [
        "data = [1, 2, \"Hello\", {\"key\": \"value\"}]"
      ],
      "metadata": {
        "id": "QcJYCasBeU_H"
      },
      "execution_count": 154,
      "outputs": []
    },
    {
      "cell_type": "code",
      "source": [
        "data[2]"
      ],
      "metadata": {
        "colab": {
          "base_uri": "https://localhost:8080/",
          "height": 35
        },
        "id": "I5QfiySUrrR_",
        "outputId": "631320a2-3b10-4113-9a5b-e4860d5ae73c"
      },
      "execution_count": 157,
      "outputs": [
        {
          "output_type": "execute_result",
          "data": {
            "text/plain": [
              "'Hello'"
            ],
            "application/vnd.google.colaboratory.intrinsic+json": {
              "type": "string"
            }
          },
          "metadata": {},
          "execution_count": 157
        }
      ]
    },
    {
      "cell_type": "code",
      "source": [
        "data.remove(\"Hello\")"
      ],
      "metadata": {
        "id": "tRsQlROerrT7"
      },
      "execution_count": 160,
      "outputs": []
    },
    {
      "cell_type": "code",
      "source": [
        "data[0] = 10\n",
        "data[1] = 17\n",
        "data[2] = \"values\""
      ],
      "metadata": {
        "id": "X8WrikLerrdL"
      },
      "execution_count": 168,
      "outputs": []
    },
    {
      "cell_type": "markdown",
      "source": [
        "Alışveriş Sepeti Projesi:\n",
        "\n",
        "shopping_cart = {\"apple\": 3, \"banana\": 2, \"orange\": 5}\n",
        "\n",
        "Sepetteki tüm ürünleri ve miktarlarını yazdırın.\n",
        "\n",
        "Sepetteki toplam ürün sayısını (adet toplamını) hesaplayın.\n",
        "\n",
        "\"apple\" sayısını 1 azaltın.\n",
        "\n",
        "\"grape\" ürününü sepete ekleyin.\n",
        "\n"
      ],
      "metadata": {
        "id": "E_Kj0MQJeaoV"
      }
    },
    {
      "cell_type": "code",
      "source": [
        "shopping_cart = {\"apple\": 3, \"banana\": 2, \"orange\": 5}"
      ],
      "metadata": {
        "id": "yUy96MUheaJc"
      },
      "execution_count": 169,
      "outputs": []
    },
    {
      "cell_type": "code",
      "source": [
        "shopping_cart"
      ],
      "metadata": {
        "colab": {
          "base_uri": "https://localhost:8080/"
        },
        "id": "gL5GVnL3rtMV",
        "outputId": "6078c6d3-bb9a-4927-85e6-1228b89e9ff0"
      },
      "execution_count": 170,
      "outputs": [
        {
          "output_type": "execute_result",
          "data": {
            "text/plain": [
              "{'apple': 3, 'banana': 2, 'orange': 5}"
            ]
          },
          "metadata": {},
          "execution_count": 170
        }
      ]
    },
    {
      "cell_type": "code",
      "source": [
        "3 + 2 + 5"
      ],
      "metadata": {
        "colab": {
          "base_uri": "https://localhost:8080/"
        },
        "id": "JJYHLiaJrtW0",
        "outputId": "73c5452f-ecc0-43c4-dbb7-61159dd26772"
      },
      "execution_count": 171,
      "outputs": [
        {
          "output_type": "execute_result",
          "data": {
            "text/plain": [
              "10"
            ]
          },
          "metadata": {},
          "execution_count": 171
        }
      ]
    },
    {
      "cell_type": "code",
      "source": [
        "shopping_cart[\"apple\"] - 1"
      ],
      "metadata": {
        "colab": {
          "base_uri": "https://localhost:8080/"
        },
        "id": "-_FzQbtwrtna",
        "outputId": "7876af59-9de3-4b37-b096-f4a090fa8e1e"
      },
      "execution_count": 177,
      "outputs": [
        {
          "output_type": "execute_result",
          "data": {
            "text/plain": [
              "2"
            ]
          },
          "metadata": {},
          "execution_count": 177
        }
      ]
    },
    {
      "cell_type": "code",
      "source": [
        "shopping_cart[\"grape\"] = 6"
      ],
      "metadata": {
        "id": "CFllqznWecxj"
      },
      "execution_count": 178,
      "outputs": []
    },
    {
      "cell_type": "code",
      "source": [],
      "metadata": {
        "id": "Rv8XXIZw3XkS"
      },
      "execution_count": null,
      "outputs": []
    }
  ]
}